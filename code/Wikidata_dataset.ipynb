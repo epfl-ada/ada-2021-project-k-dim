{
  "nbformat": 4,
  "nbformat_minor": 0,
  "metadata": {
    "colab": {
      "name": "Wikidata dataset.ipynb",
      "provenance": [],
      "collapsed_sections": []
    },
    "kernelspec": {
      "name": "python3",
      "display_name": "Python 3"
    },
    "language_info": {
      "name": "python"
    }
  },
  "cells": [
    {
      "cell_type": "markdown",
      "metadata": {
        "id": "pxcqPYR1ddrw"
      },
      "source": [
        "As we surely may enrich our dataset with the provided additional metadata about the speakers in the Quotebank dataset, we conducted some pre-processing on the Wikidata dataset.\n",
        "\n",
        "This notebook is essentially used to pre-process the wikidata entites in order to possibly enrich the data with it in the Milestone 3."
      ]
    },
    {
      "cell_type": "markdown",
      "metadata": {
        "id": "3d8WP1knnGs9"
      },
      "source": [
        "## Mounting the Google drive"
      ]
    },
    {
      "cell_type": "code",
      "metadata": {
        "id": "z-ffOwsbVkxs"
      },
      "source": [
        "import pandas as pd\n",
        "import numpy as np"
      ],
      "execution_count": null,
      "outputs": []
    },
    {
      "cell_type": "code",
      "metadata": {
        "colab": {
          "base_uri": "https://localhost:8080/"
        },
        "id": "yLJidgTVm_yF",
        "outputId": "4565deb2-20c0-4442-a122-c5f9c6504fde"
      },
      "source": [
        "from google.colab import drive\n",
        "drive.mount('/content/drive')"
      ],
      "execution_count": null,
      "outputs": [
        {
          "output_type": "stream",
          "name": "stdout",
          "text": [
            "Mounted at /content/drive\n"
          ]
        }
      ]
    },
    {
      "cell_type": "markdown",
      "metadata": {
        "id": "iPOLCYyWgAlS"
      },
      "source": [
        "## Handling the data\n",
        "Here is how we used to create the wikidata_labels data frame."
      ]
    },
    {
      "cell_type": "markdown",
      "metadata": {
        "id": "K6Rkblien7Sz"
      },
      "source": [
        "We first create the path and open the additional metadata about the speakers in the Quotebank dataset, and then we create the data frame"
      ]
    },
    {
      "cell_type": "code",
      "metadata": {
        "colab": {
          "base_uri": "https://localhost:8080/",
          "height": 521
        },
        "id": "NHENU54QV7E3",
        "outputId": "ea0a9d12-91fe-4d54-f290-a931e63d5808"
      },
      "source": [
        "PATH_1 = \"drive/MyDrive/Applied Data Analysis (ADA)/ADA milestone 2/\"\n",
        "PATH_2 = PATH_1 + \"Project datasets/speaker_attributes.parquet/\"\n",
        "df = pd.read_parquet(PATH_2 + \"part-00001-0d587965-3d8f-41ce-9771-5b8c9024dce9-c000.snappy.parquet\", engine='pyarrow')\n",
        "df"
      ],
      "execution_count": null,
      "outputs": [
        {
          "output_type": "execute_result",
          "data": {
            "text/html": [
              "<div>\n",
              "<style scoped>\n",
              "    .dataframe tbody tr th:only-of-type {\n",
              "        vertical-align: middle;\n",
              "    }\n",
              "\n",
              "    .dataframe tbody tr th {\n",
              "        vertical-align: top;\n",
              "    }\n",
              "\n",
              "    .dataframe thead th {\n",
              "        text-align: right;\n",
              "    }\n",
              "</style>\n",
              "<table border=\"1\" class=\"dataframe\">\n",
              "  <thead>\n",
              "    <tr style=\"text-align: right;\">\n",
              "      <th></th>\n",
              "      <th>aliases</th>\n",
              "      <th>date_of_birth</th>\n",
              "      <th>nationality</th>\n",
              "      <th>gender</th>\n",
              "      <th>lastrevid</th>\n",
              "      <th>ethnic_group</th>\n",
              "      <th>US_congress_bio_ID</th>\n",
              "      <th>occupation</th>\n",
              "      <th>party</th>\n",
              "      <th>academic_degree</th>\n",
              "      <th>id</th>\n",
              "      <th>label</th>\n",
              "      <th>candidacy</th>\n",
              "      <th>type</th>\n",
              "      <th>religion</th>\n",
              "    </tr>\n",
              "  </thead>\n",
              "  <tbody>\n",
              "    <tr>\n",
              "      <th>0</th>\n",
              "      <td>None</td>\n",
              "      <td>None</td>\n",
              "      <td>None</td>\n",
              "      <td>[Q6581097]</td>\n",
              "      <td>985453603</td>\n",
              "      <td>None</td>\n",
              "      <td>None</td>\n",
              "      <td>None</td>\n",
              "      <td>None</td>\n",
              "      <td>None</td>\n",
              "      <td>Q45441526</td>\n",
              "      <td>Cui Yan</td>\n",
              "      <td>None</td>\n",
              "      <td>item</td>\n",
              "      <td>None</td>\n",
              "    </tr>\n",
              "    <tr>\n",
              "      <th>1</th>\n",
              "      <td>None</td>\n",
              "      <td>None</td>\n",
              "      <td>[Q9903]</td>\n",
              "      <td>[Q6581097]</td>\n",
              "      <td>1008699604</td>\n",
              "      <td>None</td>\n",
              "      <td>None</td>\n",
              "      <td>None</td>\n",
              "      <td>None</td>\n",
              "      <td>None</td>\n",
              "      <td>Q45441555</td>\n",
              "      <td>Guo Ziyi</td>\n",
              "      <td>None</td>\n",
              "      <td>item</td>\n",
              "      <td>None</td>\n",
              "    </tr>\n",
              "    <tr>\n",
              "      <th>2</th>\n",
              "      <td>None</td>\n",
              "      <td>None</td>\n",
              "      <td>[Q9903]</td>\n",
              "      <td>[Q6581097]</td>\n",
              "      <td>1008699709</td>\n",
              "      <td>None</td>\n",
              "      <td>None</td>\n",
              "      <td>None</td>\n",
              "      <td>None</td>\n",
              "      <td>None</td>\n",
              "      <td>Q45441562</td>\n",
              "      <td>Wan Zikui</td>\n",
              "      <td>None</td>\n",
              "      <td>item</td>\n",
              "      <td>None</td>\n",
              "    </tr>\n",
              "    <tr>\n",
              "      <th>3</th>\n",
              "      <td>None</td>\n",
              "      <td>None</td>\n",
              "      <td>[Q9903]</td>\n",
              "      <td>[Q6581097]</td>\n",
              "      <td>1008699728</td>\n",
              "      <td>None</td>\n",
              "      <td>None</td>\n",
              "      <td>None</td>\n",
              "      <td>None</td>\n",
              "      <td>None</td>\n",
              "      <td>Q45441563</td>\n",
              "      <td>Lin Pei</td>\n",
              "      <td>None</td>\n",
              "      <td>item</td>\n",
              "      <td>None</td>\n",
              "    </tr>\n",
              "    <tr>\n",
              "      <th>4</th>\n",
              "      <td>None</td>\n",
              "      <td>None</td>\n",
              "      <td>[Q9683]</td>\n",
              "      <td>[Q6581097]</td>\n",
              "      <td>985261661</td>\n",
              "      <td>None</td>\n",
              "      <td>None</td>\n",
              "      <td>None</td>\n",
              "      <td>None</td>\n",
              "      <td>None</td>\n",
              "      <td>Q45441565</td>\n",
              "      <td>Guan Zhen</td>\n",
              "      <td>None</td>\n",
              "      <td>item</td>\n",
              "      <td>None</td>\n",
              "    </tr>\n",
              "    <tr>\n",
              "      <th>...</th>\n",
              "      <td>...</td>\n",
              "      <td>...</td>\n",
              "      <td>...</td>\n",
              "      <td>...</td>\n",
              "      <td>...</td>\n",
              "      <td>...</td>\n",
              "      <td>...</td>\n",
              "      <td>...</td>\n",
              "      <td>...</td>\n",
              "      <td>...</td>\n",
              "      <td>...</td>\n",
              "      <td>...</td>\n",
              "      <td>...</td>\n",
              "      <td>...</td>\n",
              "      <td>...</td>\n",
              "    </tr>\n",
              "    <tr>\n",
              "      <th>660353</th>\n",
              "      <td>None</td>\n",
              "      <td>None</td>\n",
              "      <td>None</td>\n",
              "      <td>None</td>\n",
              "      <td>1388244101</td>\n",
              "      <td>None</td>\n",
              "      <td>None</td>\n",
              "      <td>None</td>\n",
              "      <td>None</td>\n",
              "      <td>None</td>\n",
              "      <td>Q106134191</td>\n",
              "      <td>Leonhard Gans</td>\n",
              "      <td>None</td>\n",
              "      <td>item</td>\n",
              "      <td>None</td>\n",
              "    </tr>\n",
              "    <tr>\n",
              "      <th>660354</th>\n",
              "      <td>None</td>\n",
              "      <td>None</td>\n",
              "      <td>None</td>\n",
              "      <td>None</td>\n",
              "      <td>1388243838</td>\n",
              "      <td>None</td>\n",
              "      <td>None</td>\n",
              "      <td>None</td>\n",
              "      <td>None</td>\n",
              "      <td>None</td>\n",
              "      <td>Q106134200</td>\n",
              "      <td>André de Arena</td>\n",
              "      <td>None</td>\n",
              "      <td>item</td>\n",
              "      <td>None</td>\n",
              "    </tr>\n",
              "    <tr>\n",
              "      <th>660355</th>\n",
              "      <td>None</td>\n",
              "      <td>None</td>\n",
              "      <td>None</td>\n",
              "      <td>None</td>\n",
              "      <td>1388243780</td>\n",
              "      <td>None</td>\n",
              "      <td>None</td>\n",
              "      <td>None</td>\n",
              "      <td>None</td>\n",
              "      <td>None</td>\n",
              "      <td>Q106134203</td>\n",
              "      <td>Andreas Byssmann</td>\n",
              "      <td>None</td>\n",
              "      <td>item</td>\n",
              "      <td>None</td>\n",
              "    </tr>\n",
              "    <tr>\n",
              "      <th>660356</th>\n",
              "      <td>None</td>\n",
              "      <td>None</td>\n",
              "      <td>None</td>\n",
              "      <td>None</td>\n",
              "      <td>1388243759</td>\n",
              "      <td>None</td>\n",
              "      <td>None</td>\n",
              "      <td>None</td>\n",
              "      <td>None</td>\n",
              "      <td>None</td>\n",
              "      <td>Q106134204</td>\n",
              "      <td>Johannes</td>\n",
              "      <td>None</td>\n",
              "      <td>item</td>\n",
              "      <td>None</td>\n",
              "    </tr>\n",
              "    <tr>\n",
              "      <th>660357</th>\n",
              "      <td>None</td>\n",
              "      <td>None</td>\n",
              "      <td>None</td>\n",
              "      <td>None</td>\n",
              "      <td>1388243681</td>\n",
              "      <td>None</td>\n",
              "      <td>None</td>\n",
              "      <td>None</td>\n",
              "      <td>None</td>\n",
              "      <td>None</td>\n",
              "      <td>Q106134209</td>\n",
              "      <td>Marino Seracho</td>\n",
              "      <td>None</td>\n",
              "      <td>item</td>\n",
              "      <td>None</td>\n",
              "    </tr>\n",
              "  </tbody>\n",
              "</table>\n",
              "<p>660358 rows × 15 columns</p>\n",
              "</div>"
            ],
            "text/plain": [
              "       aliases date_of_birth nationality  ... candidacy  type religion\n",
              "0         None          None        None  ...      None  item     None\n",
              "1         None          None     [Q9903]  ...      None  item     None\n",
              "2         None          None     [Q9903]  ...      None  item     None\n",
              "3         None          None     [Q9903]  ...      None  item     None\n",
              "4         None          None     [Q9683]  ...      None  item     None\n",
              "...        ...           ...         ...  ...       ...   ...      ...\n",
              "660353    None          None        None  ...      None  item     None\n",
              "660354    None          None        None  ...      None  item     None\n",
              "660355    None          None        None  ...      None  item     None\n",
              "660356    None          None        None  ...      None  item     None\n",
              "660357    None          None        None  ...      None  item     None\n",
              "\n",
              "[660358 rows x 15 columns]"
            ]
          },
          "metadata": {},
          "execution_count": 10
        }
      ]
    },
    {
      "cell_type": "code",
      "metadata": {
        "id": "y65sEfQsc4e0"
      },
      "source": [
        "wikidata_labels = pd.read_csv(PATH_1 + 'Project datasets/wikidata_labels_descriptions_quotebank.csv.bz2', compression='bz2', index_col='QID')"
      ],
      "execution_count": null,
      "outputs": []
    },
    {
      "cell_type": "code",
      "metadata": {
        "colab": {
          "base_uri": "https://localhost:8080/",
          "height": 35
        },
        "id": "o_QefQYkd24_",
        "outputId": "ff152831-4c93-4bf9-9861-8e902dc9b8f7"
      },
      "source": [
        "wikidata_labels.loc['Q31']['Label']"
      ],
      "execution_count": null,
      "outputs": [
        {
          "output_type": "execute_result",
          "data": {
            "application/vnd.google.colaboratory.intrinsic+json": {
              "type": "string"
            },
            "text/plain": [
              "'Belgium'"
            ]
          },
          "metadata": {},
          "execution_count": 13
        }
      ]
    },
    {
      "cell_type": "markdown",
      "metadata": {
        "id": "FFf6EFv3BTN2"
      },
      "source": [
        "## Wikidata Labels\n",
        "\n"
      ]
    },
    {
      "cell_type": "code",
      "metadata": {
        "colab": {
          "base_uri": "https://localhost:8080/",
          "height": 447
        },
        "id": "3ebLsXvakXD_",
        "outputId": "3e1f508a-2b31-4eaa-b270-6bab3e37076c"
      },
      "source": [
        "wikidata_labels"
      ],
      "execution_count": null,
      "outputs": [
        {
          "output_type": "execute_result",
          "data": {
            "text/html": [
              "<div>\n",
              "<style scoped>\n",
              "    .dataframe tbody tr th:only-of-type {\n",
              "        vertical-align: middle;\n",
              "    }\n",
              "\n",
              "    .dataframe tbody tr th {\n",
              "        vertical-align: top;\n",
              "    }\n",
              "\n",
              "    .dataframe thead th {\n",
              "        text-align: right;\n",
              "    }\n",
              "</style>\n",
              "<table border=\"1\" class=\"dataframe\">\n",
              "  <thead>\n",
              "    <tr style=\"text-align: right;\">\n",
              "      <th></th>\n",
              "      <th>Label</th>\n",
              "      <th>Description</th>\n",
              "    </tr>\n",
              "    <tr>\n",
              "      <th>QID</th>\n",
              "      <th></th>\n",
              "      <th></th>\n",
              "    </tr>\n",
              "  </thead>\n",
              "  <tbody>\n",
              "    <tr>\n",
              "      <th>Q31</th>\n",
              "      <td>Belgium</td>\n",
              "      <td>country in western Europe</td>\n",
              "    </tr>\n",
              "    <tr>\n",
              "      <th>Q45</th>\n",
              "      <td>Portugal</td>\n",
              "      <td>country in southwestern Europe</td>\n",
              "    </tr>\n",
              "    <tr>\n",
              "      <th>Q75</th>\n",
              "      <td>Internet</td>\n",
              "      <td>global system of connected computer networks</td>\n",
              "    </tr>\n",
              "    <tr>\n",
              "      <th>Q148</th>\n",
              "      <td>People's Republic of China</td>\n",
              "      <td>sovereign state in East Asia</td>\n",
              "    </tr>\n",
              "    <tr>\n",
              "      <th>Q155</th>\n",
              "      <td>Brazil</td>\n",
              "      <td>country in South America</td>\n",
              "    </tr>\n",
              "    <tr>\n",
              "      <th>...</th>\n",
              "      <td>...</td>\n",
              "      <td>...</td>\n",
              "    </tr>\n",
              "    <tr>\n",
              "      <th>Q106302506</th>\n",
              "      <td>didgeridooist</td>\n",
              "      <td>musician who plays the didgeridoo</td>\n",
              "    </tr>\n",
              "    <tr>\n",
              "      <th>Q106341153</th>\n",
              "      <td>biochemistry teacher</td>\n",
              "      <td>teacher of biochemistry at any level</td>\n",
              "    </tr>\n",
              "    <tr>\n",
              "      <th>Q106368830</th>\n",
              "      <td>2018 Wigan Metropolitan Borough Council electi...</td>\n",
              "      <td>NaN</td>\n",
              "    </tr>\n",
              "    <tr>\n",
              "      <th>Q106369692</th>\n",
              "      <td>2018 Wigan Metropolitan Borough Council electi...</td>\n",
              "      <td>NaN</td>\n",
              "    </tr>\n",
              "    <tr>\n",
              "      <th>Q106376887</th>\n",
              "      <td>NaN</td>\n",
              "      <td>NaN</td>\n",
              "    </tr>\n",
              "  </tbody>\n",
              "</table>\n",
              "<p>36969 rows × 2 columns</p>\n",
              "</div>"
            ],
            "text/plain": [
              "                                                        Label                                   Description\n",
              "QID                                                                                                        \n",
              "Q31                                                   Belgium                     country in western Europe\n",
              "Q45                                                  Portugal                country in southwestern Europe\n",
              "Q75                                                  Internet  global system of connected computer networks\n",
              "Q148                               People's Republic of China                  sovereign state in East Asia\n",
              "Q155                                                   Brazil                      country in South America\n",
              "...                                                       ...                                           ...\n",
              "Q106302506                                      didgeridooist             musician who plays the didgeridoo\n",
              "Q106341153                               biochemistry teacher          teacher of biochemistry at any level\n",
              "Q106368830  2018 Wigan Metropolitan Borough Council electi...                                           NaN\n",
              "Q106369692  2018 Wigan Metropolitan Borough Council electi...                                           NaN\n",
              "Q106376887                                                NaN                                           NaN\n",
              "\n",
              "[36969 rows x 2 columns]"
            ]
          },
          "metadata": {},
          "execution_count": 14
        }
      ]
    },
    {
      "cell_type": "markdown",
      "metadata": {
        "id": "cIlphhtLBuJN"
      },
      "source": [
        "In order to properly use information from the Wikidata_Labels data frame, we implemented two functions: `Qids_to_tuple_words` and `Qids_to_words`. These functions convert labels into words ..."
      ]
    },
    {
      "cell_type": "code",
      "metadata": {
        "id": "UP0QXgQjgMki"
      },
      "source": [
        "def Qids_to_tuple_words(tuple_qids, wikidata_labels):\n",
        "    words = []\n",
        "    for qid in tuple_qids:\n",
        "        words.append(wikidata_labels.loc[qid]['Label'])\n",
        "    return tuple(words)\n",
        "\n",
        "def Qids_to_words(df, column_name, wikidata_labels):\n",
        "    df_c = df[column_name][df[column_name].notna()].copy()\n",
        "    df_c = df_c.apply(lambda x: Qids_to_tuple_words(np.sort(x), wikidata_labels))\n",
        "    return df_c"
      ],
      "execution_count": null,
      "outputs": []
    },
    {
      "cell_type": "markdown",
      "metadata": {
        "id": "Rrbyi8LeC0jj"
      },
      "source": [
        "For example, let's see the nationality feature from the wikidata_labels data frame:"
      ]
    },
    {
      "cell_type": "code",
      "metadata": {
        "id": "j0x5FL-G1jph"
      },
      "source": [
        "words = Qids_to_words(df, 'nationality', wikidata_labels)"
      ],
      "execution_count": null,
      "outputs": []
    },
    {
      "cell_type": "code",
      "metadata": {
        "id": "pMGQchyq6NZ1",
        "colab": {
          "base_uri": "https://localhost:8080/"
        },
        "outputId": "4ac3268e-06fe-4518-b3ba-597a7bd415f8"
      },
      "source": [
        "words"
      ],
      "execution_count": null,
      "outputs": [
        {
          "output_type": "execute_result",
          "data": {
            "text/plain": [
              "1                       (Ming dynasty,)\n",
              "2                       (Ming dynasty,)\n",
              "3                       (Ming dynasty,)\n",
              "4                        (Tang Empire,)\n",
              "5                        (Tang Empire,)\n",
              "                      ...              \n",
              "660332                         (Italy,)\n",
              "660333              (Kingdom of Italy,)\n",
              "660337                (Czech Republic,)\n",
              "660342                      (Bulgaria,)\n",
              "660343    (Kingdom of the Netherlands,)\n",
              "Name: nationality, Length: 124148, dtype: object"
            ]
          },
          "metadata": {},
          "execution_count": 17
        }
      ]
    },
    {
      "cell_type": "code",
      "metadata": {
        "id": "x9vb-Faq6Wmb",
        "colab": {
          "base_uri": "https://localhost:8080/"
        },
        "outputId": "5ee80082-e56a-4f26-e893-01978e810c88"
      },
      "source": [
        "words.unique()"
      ],
      "execution_count": null,
      "outputs": [
        {
          "output_type": "execute_result",
          "data": {
            "text/plain": [
              "array([('Ming dynasty',), ('Tang Empire',), ('Song dynasty',), ...,\n",
              "       ('Vienna', 'Austria'), ('Kingdom of Württemberg', 'Germany'),\n",
              "       (\"Romanian People's Republic\", 'Socialist Republic of Romania')],\n",
              "      dtype=object)"
            ]
          },
          "metadata": {},
          "execution_count": 18
        }
      ]
    },
    {
      "cell_type": "code",
      "metadata": {
        "colab": {
          "base_uri": "https://localhost:8080/"
        },
        "id": "ojTmn2Hom213",
        "outputId": "dd3c8c82-0176-46f8-a535-3472f7e85fbd"
      },
      "source": [
        "words.unique().shape"
      ],
      "execution_count": null,
      "outputs": [
        {
          "output_type": "execute_result",
          "data": {
            "text/plain": [
              "(1441,)"
            ]
          },
          "metadata": {},
          "execution_count": 19
        }
      ]
    },
    {
      "cell_type": "markdown",
      "metadata": {
        "id": "w_rhYQUvDbSd"
      },
      "source": [
        "## Conclusion\n",
        "\n",
        "We can now properly augment our dataset with the corresponding labels to each wikidata search."
      ]
    },
    {
      "cell_type": "code",
      "metadata": {
        "id": "yt7GpMZQne2c"
      },
      "source": [
        ""
      ],
      "execution_count": null,
      "outputs": []
    }
  ]
}
