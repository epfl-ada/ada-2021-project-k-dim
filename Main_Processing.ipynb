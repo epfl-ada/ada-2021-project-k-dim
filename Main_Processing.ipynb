{
  "nbformat": 4,
  "nbformat_minor": 0,
  "metadata": {
    "colab": {
      "name": "Копия блокнота \"Tutorial_notebook.ipynb\"",
      "provenance": [],
      "collapsed_sections": []
    },
    "kernelspec": {
      "name": "python3",
      "display_name": "Python 3"
    },
    "language_info": {
      "name": "python"
    }
  },
  "cells": [
    {
      "cell_type": "markdown",
      "metadata": {
        "id": "oA_fe4oxWT6p"
      },
      "source": [
        "# Mouting the Google Drive\n"
      ]
    },
    {
      "cell_type": "code",
      "metadata": {
        "id": "CEcIlRwfWY4C",
        "colab": {
          "base_uri": "https://localhost:8080/"
        },
        "outputId": "46bd7840-8e03-4855-ca2c-600e74053778"
      },
      "source": [
        "from google.colab import drive\n",
        "drive.mount('/content/drive')"
      ],
      "execution_count": 1,
      "outputs": [
        {
          "output_type": "stream",
          "name": "stdout",
          "text": [
            "Mounted at /content/drive\n"
          ]
        }
      ]
    },
    {
      "cell_type": "markdown",
      "metadata": {
        "id": "cKUy29h68N0J"
      },
      "source": [
        "## First, lets check the approach already done in the notebook:\n",
        "\n",
        "This is an example on how to extract domain names from a sample. To do that, we can use *tld* library. To install it:"
      ]
    },
    {
      "cell_type": "code",
      "metadata": {
        "id": "t7BjB7AW9qst",
        "colab": {
          "base_uri": "https://localhost:8080/"
        },
        "outputId": "e07a2147-c073-487d-96e3-a547616ad75c"
      },
      "source": [
        "!pip install tld"
      ],
      "execution_count": null,
      "outputs": [
        {
          "output_type": "stream",
          "name": "stdout",
          "text": [
            "Collecting tld\n",
            "  Downloading tld-0.12.6-py37-none-any.whl (412 kB)\n",
            "\u001b[?25l\r\u001b[K     |▉                               | 10 kB 16.5 MB/s eta 0:00:01\r\u001b[K     |█▋                              | 20 kB 17.3 MB/s eta 0:00:01\r\u001b[K     |██▍                             | 30 kB 20.0 MB/s eta 0:00:01\r\u001b[K     |███▏                            | 40 kB 19.7 MB/s eta 0:00:01\r\u001b[K     |████                            | 51 kB 8.3 MB/s eta 0:00:01\r\u001b[K     |████▊                           | 61 kB 8.6 MB/s eta 0:00:01\r\u001b[K     |█████▋                          | 71 kB 7.2 MB/s eta 0:00:01\r\u001b[K     |██████▍                         | 81 kB 7.7 MB/s eta 0:00:01\r\u001b[K     |███████▏                        | 92 kB 8.2 MB/s eta 0:00:01\r\u001b[K     |████████                        | 102 kB 7.5 MB/s eta 0:00:01\r\u001b[K     |████████▊                       | 112 kB 7.5 MB/s eta 0:00:01\r\u001b[K     |█████████▌                      | 122 kB 7.5 MB/s eta 0:00:01\r\u001b[K     |██████████▍                     | 133 kB 7.5 MB/s eta 0:00:01\r\u001b[K     |███████████▏                    | 143 kB 7.5 MB/s eta 0:00:01\r\u001b[K     |████████████                    | 153 kB 7.5 MB/s eta 0:00:01\r\u001b[K     |████████████▊                   | 163 kB 7.5 MB/s eta 0:00:01\r\u001b[K     |█████████████▌                  | 174 kB 7.5 MB/s eta 0:00:01\r\u001b[K     |██████████████▎                 | 184 kB 7.5 MB/s eta 0:00:01\r\u001b[K     |███████████████                 | 194 kB 7.5 MB/s eta 0:00:01\r\u001b[K     |████████████████                | 204 kB 7.5 MB/s eta 0:00:01\r\u001b[K     |████████████████▊               | 215 kB 7.5 MB/s eta 0:00:01\r\u001b[K     |█████████████████▌              | 225 kB 7.5 MB/s eta 0:00:01\r\u001b[K     |██████████████████▎             | 235 kB 7.5 MB/s eta 0:00:01\r\u001b[K     |███████████████████             | 245 kB 7.5 MB/s eta 0:00:01\r\u001b[K     |███████████████████▉            | 256 kB 7.5 MB/s eta 0:00:01\r\u001b[K     |████████████████████▊           | 266 kB 7.5 MB/s eta 0:00:01\r\u001b[K     |█████████████████████▌          | 276 kB 7.5 MB/s eta 0:00:01\r\u001b[K     |██████████████████████▎         | 286 kB 7.5 MB/s eta 0:00:01\r\u001b[K     |███████████████████████         | 296 kB 7.5 MB/s eta 0:00:01\r\u001b[K     |███████████████████████▉        | 307 kB 7.5 MB/s eta 0:00:01\r\u001b[K     |████████████████████████▋       | 317 kB 7.5 MB/s eta 0:00:01\r\u001b[K     |█████████████████████████▍      | 327 kB 7.5 MB/s eta 0:00:01\r\u001b[K     |██████████████████████████▎     | 337 kB 7.5 MB/s eta 0:00:01\r\u001b[K     |███████████████████████████     | 348 kB 7.5 MB/s eta 0:00:01\r\u001b[K     |███████████████████████████▉    | 358 kB 7.5 MB/s eta 0:00:01\r\u001b[K     |████████████████████████████▋   | 368 kB 7.5 MB/s eta 0:00:01\r\u001b[K     |█████████████████████████████▍  | 378 kB 7.5 MB/s eta 0:00:01\r\u001b[K     |██████████████████████████████▏ | 389 kB 7.5 MB/s eta 0:00:01\r\u001b[K     |███████████████████████████████ | 399 kB 7.5 MB/s eta 0:00:01\r\u001b[K     |███████████████████████████████▉| 409 kB 7.5 MB/s eta 0:00:01\r\u001b[K     |████████████████████████████████| 412 kB 7.5 MB/s \n",
            "\u001b[?25hInstalling collected packages: tld\n",
            "Successfully installed tld-0.12.6\n"
          ]
        }
      ]
    },
    {
      "cell_type": "markdown",
      "metadata": {
        "id": "DK4YmTdA9wmY"
      },
      "source": [
        "Following function then gives domain name. It takes as an argument an URL and returns the domain name:"
      ]
    },
    {
      "cell_type": "code",
      "metadata": {
        "id": "IdhreeYc8XEX"
      },
      "source": [
        "from tld import get_tld\n",
        "\n",
        "def get_domain(url):\n",
        "    res = get_tld(url, as_object=True)\n",
        "    return res.tld\n"
      ],
      "execution_count": null,
      "outputs": []
    },
    {
      "cell_type": "markdown",
      "metadata": {
        "id": "2V67aCknDjgY"
      },
      "source": [
        "Now we will have to read the data. Each sample has property 'urls' which contains a list of links to the original articles containing the quotation. We will extract domain names for these links. Then, we will save a new file that contains samples with extracted domains. The new file will be saved in local storage in Colab but you can change path_to_out variable (optionally) if you want to save it directly to the drive. To generate a new file, run this cell:"
      ]
    },
    {
      "cell_type": "code",
      "metadata": {
        "id": "aHMv0FD0Eh_W"
      },
      "source": [
        "import bz2\n",
        "import json\n",
        "\n",
        "path_to_file = '/content/drive/MyDrive/Quotebank/quotes-2020.json.bz2' \n",
        "path_to_out = '/content/quotes-2020-domains.json.bz2'\n",
        "\n",
        "with bz2.open(path_to_file, 'rb') as s_file:\n",
        "    with bz2.open(path_to_out, 'wb') as d_file:\n",
        "        for instance in s_file:\n",
        "            instance = json.loads(instance) # loading a sample\n",
        "            urls = instance['urls'] # extracting list of links\n",
        "            domains = []\n",
        "            for url in urls:\n",
        "                tld = get_domain(url)\n",
        "                domains.append(tld)\n",
        "            instance['domains'] = domains # updating the sample with domain name\n",
        "            d_file.write((json.dumps(instance)+'\\n').encode('utf-8')) # writing in the new file"
      ],
      "execution_count": null,
      "outputs": []
    },
    {
      "cell_type": "markdown",
      "metadata": {
        "id": "0vOPobprkF2h"
      },
      "source": [
        "This approach took us 25 mins to add an additional column to an existing data and store it into the new file."
      ]
    },
    {
      "cell_type": "markdown",
      "metadata": {
        "id": "2UTzMFrHdwqc"
      },
      "source": [
        "##Let's check the second option by working with pandas chunk by chunk:"
      ]
    },
    {
      "cell_type": "markdown",
      "metadata": {
        "id": "M6R16gyoeHmq"
      },
      "source": [
        "First we install the proper version of pandas to let Google collab work with chunks:"
      ]
    },
    {
      "cell_type": "code",
      "metadata": {
        "id": "oMpQNdLwwt_3",
        "colab": {
          "base_uri": "https://localhost:8080/"
        },
        "outputId": "4463b3ea-6c9b-41f2-853e-3bc69f993e29"
      },
      "source": [
        "!pip install pandas==1.0.5"
      ],
      "execution_count": 1,
      "outputs": [
        {
          "output_type": "stream",
          "name": "stdout",
          "text": [
            "Requirement already satisfied: pandas==1.0.5 in /usr/local/lib/python3.7/dist-packages (1.0.5)\n",
            "Requirement already satisfied: numpy>=1.13.3 in /usr/local/lib/python3.7/dist-packages (from pandas==1.0.5) (1.19.5)\n",
            "Requirement already satisfied: python-dateutil>=2.6.1 in /usr/local/lib/python3.7/dist-packages (from pandas==1.0.5) (2.8.2)\n",
            "Requirement already satisfied: pytz>=2017.2 in /usr/local/lib/python3.7/dist-packages (from pandas==1.0.5) (2018.9)\n",
            "Requirement already satisfied: six>=1.5 in /usr/local/lib/python3.7/dist-packages (from python-dateutil>=2.6.1->pandas==1.0.5) (1.15.0)\n"
          ]
        }
      ]
    },
    {
      "cell_type": "markdown",
      "metadata": {
        "id": "xEYnZYRGeO_z"
      },
      "source": [
        "Second, we execute the function to check possibility of processing data chunk by chunk inside pandas df:"
      ]
    },
    {
      "cell_type": "code",
      "metadata": {
        "id": "70YE-CBLx30s"
      },
      "source": [
        "import matplotlib.pyplot as plt\n",
        "import pandas as pd\n",
        "import numpy as np\n",
        "\n",
        "def process_chunk(chunk):\n",
        "        print(f'Processing chunk with {len(chunk)} rows')\n",
        "        print(chunk.columns)\n",
        "path_to_file = '/content/drive/MyDrive/Quotebank/quotes-2020.json.bz2' "
      ],
      "execution_count": 2,
      "outputs": []
    },
    {
      "cell_type": "code",
      "metadata": {
        "colab": {
          "base_uri": "https://localhost:8080/"
        },
        "id": "PHtkgiJfyD_C",
        "outputId": "afc885a4-3211-4355-fb80-91df36689d14"
      },
      "source": [
        "df_reader = pd.read_json(path_to_file, lines=True, compression='bz2', chunksize=1000000)\n",
        "for chunk in df_reader:\n",
        "    process_chunk(chunk)"
      ],
      "execution_count": null,
      "outputs": [
        {
          "output_type": "stream",
          "name": "stdout",
          "text": [
            "Processing chunk with 1000000 rows\n",
            "Index(['quoteID', 'quotation', 'speaker', 'qids', 'date', 'numOccurrences',\n",
            "       'probas', 'urls', 'phase'],\n",
            "      dtype='object')\n",
            "Processing chunk with 1000000 rows\n",
            "Index(['quoteID', 'quotation', 'speaker', 'qids', 'date', 'numOccurrences',\n",
            "       'probas', 'urls', 'phase'],\n",
            "      dtype='object')\n",
            "Processing chunk with 1000000 rows\n",
            "Index(['quoteID', 'quotation', 'speaker', 'qids', 'date', 'numOccurrences',\n",
            "       'probas', 'urls', 'phase'],\n",
            "      dtype='object')\n",
            "Processing chunk with 1000000 rows\n",
            "Index(['quoteID', 'quotation', 'speaker', 'qids', 'date', 'numOccurrences',\n",
            "       'probas', 'urls', 'phase'],\n",
            "      dtype='object')\n",
            "Processing chunk with 1000000 rows\n",
            "Index(['quoteID', 'quotation', 'speaker', 'qids', 'date', 'numOccurrences',\n",
            "       'probas', 'urls', 'phase'],\n",
            "      dtype='object')\n",
            "Processing chunk with 244449 rows\n",
            "Index(['quoteID', 'quotation', 'speaker', 'qids', 'date', 'numOccurrences',\n",
            "       'probas', 'urls', 'phase'],\n",
            "      dtype='object')\n"
          ]
        }
      ]
    },
    {
      "cell_type": "markdown",
      "metadata": {
        "id": "7_qugn82etsI"
      },
      "source": [
        "It took us only 6 mins 54 sec to process all the data which has 5'244'449 rows and 9 columns, so let's continue with this option of working with data."
      ]
    },
    {
      "cell_type": "markdown",
      "metadata": {
        "id": "nlJUU8Cbe4QE"
      },
      "source": [
        "##Data exploration\n",
        "\n",
        "First, we check the presented columns and their datatypes to understand their formats:"
      ]
    },
    {
      "cell_type": "code",
      "metadata": {
        "colab": {
          "base_uri": "https://localhost:8080/"
        },
        "id": "tX1kx09aemzH",
        "outputId": "e27e17d7-0a4e-45d9-cce1-03627973534d"
      },
      "source": [
        "df_reader = pd.read_json(path_to_file, lines=True, compression='bz2', chunksize=10)\n",
        "for chunk in df_reader:\n",
        "    print(chunk.dtypes)\n",
        "    break"
      ],
      "execution_count": null,
      "outputs": [
        {
          "output_type": "stream",
          "name": "stdout",
          "text": [
            "quoteID                   object\n",
            "quotation                 object\n",
            "speaker                   object\n",
            "qids                      object\n",
            "date              datetime64[ns]\n",
            "numOccurrences             int64\n",
            "probas                    object\n",
            "urls                      object\n",
            "phase                     object\n",
            "dtype: object\n"
          ]
        }
      ]
    },
    {
      "cell_type": "markdown",
      "metadata": {
        "id": "dbUrpSwJghgP"
      },
      "source": [
        "Next, let's check if there's some None values in speakers column. They will be considered as the missing values in terms of our project:"
      ]
    },
    {
      "cell_type": "code",
      "metadata": {
        "id": "upx5Y7H0xEyU",
        "colab": {
          "base_uri": "https://localhost:8080/"
        },
        "outputId": "f73366ad-3560-4d5e-fb7f-5f0ca6afe208"
      },
      "source": [
        "df_reader = pd.read_json(path_to_file, lines=True, compression='bz2', chunksize=1000000)\n",
        "for chunk in df_reader:\n",
        "    print('Num of not null speakers out of 1 mil rows: '+ str(chunk[chunk.speaker != 'None'].shape[0]))\n",
        "    process_chunk(chunk)"
      ],
      "execution_count": null,
      "outputs": [
        {
          "output_type": "stream",
          "name": "stdout",
          "text": [
            "Num of not null speakers: 656300\n",
            "Processing chunk with 1000000 rows\n",
            "Index(['quoteID', 'quotation', 'speaker', 'qids', 'date', 'numOccurrences',\n",
            "       'probas', 'urls', 'phase'],\n",
            "      dtype='object')\n",
            "Num of not null speakers: 656222\n",
            "Processing chunk with 1000000 rows\n",
            "Index(['quoteID', 'quotation', 'speaker', 'qids', 'date', 'numOccurrences',\n",
            "       'probas', 'urls', 'phase'],\n",
            "      dtype='object')\n",
            "Num of not null speakers: 656647\n",
            "Processing chunk with 1000000 rows\n",
            "Index(['quoteID', 'quotation', 'speaker', 'qids', 'date', 'numOccurrences',\n",
            "       'probas', 'urls', 'phase'],\n",
            "      dtype='object')\n",
            "Num of not null speakers: 656528\n",
            "Processing chunk with 1000000 rows\n",
            "Index(['quoteID', 'quotation', 'speaker', 'qids', 'date', 'numOccurrences',\n",
            "       'probas', 'urls', 'phase'],\n",
            "      dtype='object')\n",
            "Num of not null speakers: 657587\n",
            "Processing chunk with 1000000 rows\n",
            "Index(['quoteID', 'quotation', 'speaker', 'qids', 'date', 'numOccurrences',\n",
            "       'probas', 'urls', 'phase'],\n",
            "      dtype='object')\n",
            "Num of not null speakers: 160321\n",
            "Processing chunk with 244449 rows\n",
            "Index(['quoteID', 'quotation', 'speaker', 'qids', 'date', 'numOccurrences',\n",
            "       'probas', 'urls', 'phase'],\n",
            "      dtype='object')\n"
          ]
        }
      ]
    },
    {
      "cell_type": "markdown",
      "metadata": {
        "id": "tttue_wFl1IW"
      },
      "source": [
        "We can see that there are some Null values and we will deal with them a bit after.\n",
        "\n",
        "Now let's see how the distibution histogram will be presented if it's done chunk by chunk (here and further we will use prints to see that data is still processing and not stuck at some point):"
      ]
    },
    {
      "cell_type": "code",
      "metadata": {
        "id": "Ux5a80Pe47oZ",
        "colab": {
          "base_uri": "https://localhost:8080/",
          "height": 639
        },
        "outputId": "ef1d3c51-2883-4cac-eae8-b4c252e59de9"
      },
      "source": [
        "df_reader = pd.read_json(path_to_file, lines=True, compression='bz2', chunksize=500000)\n",
        "for chunk in df_reader:\n",
        "    print('Currently working on new 500000...')\n",
        "    chunk['numOccurrences'][chunk.speaker != 'None'].hist(log = True)\n",
        "    print('end')"
      ],
      "execution_count": null,
      "outputs": [
        {
          "output_type": "stream",
          "name": "stdout",
          "text": [
            "Currently working on new 500000...\n",
            "end\n",
            "Currently working on new 500000...\n",
            "end\n",
            "Currently working on new 500000...\n",
            "end\n",
            "Currently working on new 500000...\n",
            "end\n",
            "Currently working on new 500000...\n",
            "end\n",
            "Currently working on new 500000...\n",
            "end\n",
            "Currently working on new 500000...\n",
            "end\n",
            "Currently working on new 500000...\n",
            "end\n",
            "Currently working on new 500000...\n",
            "end\n",
            "Currently working on new 500000...\n",
            "end\n",
            "Currently working on new 500000...\n",
            "end\n"
          ]
        },
        {
          "output_type": "display_data",
          "data": {
            "image/png": "[encoded data removed]",
            "text/plain": [
              "<Figure size 432x288 with 1 Axes>"
            ]
          },
          "metadata": {
            "needs_background": "light"
          }
        }
      ]
    },
    {
      "cell_type": "markdown",
      "metadata": {
        "id": "IcQ8ZngnmHdY"
      },
      "source": [
        "Not a good way on seeing it like that, so we have to find a better way of visualization. But still, it's great that even here, we can see the distribution graph.\n",
        "The good representation will be in \"Data Filtering section\""
      ]
    },
    {
      "cell_type": "markdown",
      "metadata": {
        "id": "mIiI26uxP91H"
      },
      "source": [
        "\n",
        "\n",
        "Now, as we would need to locate exact person to link him to an additional dataset, we would need the rows containing single 'qids' field, let's check how many of these we have in the dataset:"
      ]
    },
    {
      "cell_type": "code",
      "metadata": {
        "colab": {
          "base_uri": "https://localhost:8080/"
        },
        "id": "ZyJ61lH_5yr-",
        "outputId": "727b1e71-62f1-43b7-8af2-db3ade84fbfc"
      },
      "source": [
        "df_reader = pd.read_json(path_to_file, lines=True, compression='bz2', chunksize=1000000)\n",
        "for chunk in df_reader:\n",
        "    print('Num of single defined speakers out of 1 mil: '+ str(chunk[chunk['qids'].str.len() == 1].shape[0]))"
      ],
      "execution_count": null,
      "outputs": [
        {
          "output_type": "stream",
          "name": "stdout",
          "text": [
            "Num of single defined speakers out of 1 mil: 479023\n",
            "Num of single defined speakers out of 1 mil: 478647\n",
            "Num of single defined speakers out of 1 mil: 479164\n",
            "Num of single defined speakers out of 1 mil: 478816\n",
            "Num of single defined speakers out of 1 mil: 479665\n",
            "Num of single defined speakers out of 1 mil: 116590\n"
          ]
        }
      ]
    },
    {
      "cell_type": "markdown",
      "metadata": {
        "id": "zQ2C8i6GpwgS"
      },
      "source": [
        "Almost half a million for each chunk, still a good amount to analyze!\n",
        "\n",
        "We can also check the number of unique speakers:"
      ]
    },
    {
      "cell_type": "code",
      "metadata": {
        "colab": {
          "base_uri": "https://localhost:8080/"
        },
        "id": "p-qlaJyYyirE",
        "outputId": "5e393270-93a0-4a79-def3-373c2afca069"
      },
      "source": [
        "df_reader = pd.read_json(path_to_file, lines=True, compression='bz2', chunksize=1000000)\n",
        "for chunk in df_reader:\n",
        "    print('Num of unique speakers out of 1 mil: '+ str(chunk['speaker'].unique().shape[0]))"
      ],
      "execution_count": null,
      "outputs": [
        {
          "output_type": "stream",
          "name": "stdout",
          "text": [
            "Num of unique speakers out of 1 mil: 129658\n",
            "Num of unique speakers out of 1 mil: 129520\n",
            "Num of unique speakers out of 1 mil: 129525\n",
            "Num of unique speakers out of 1 mil: 129306\n",
            "Num of unique speakers out of 1 mil: 129676\n",
            "Num of unique speakers out of 1 mil: 62330\n"
          ]
        }
      ]
    },
    {
      "cell_type": "markdown",
      "metadata": {
        "id": "Do_MLc0RqFO-"
      },
      "source": [
        "The problem is that these valuse from each chunk would definetely intersect. Still even somehow these are the only unique speakers, we have more that a hundred thousand persons per only few months of 2020."
      ]
    },
    {
      "cell_type": "markdown",
      "metadata": {
        "id": "77dU7uaKqzEZ"
      },
      "source": [
        "##Data filtering\n",
        "\n",
        "Now lets create a new file with only raws which have single qids for furher working with less data in project milestone 3. \n",
        "\n",
        "We have considered an opportunity of using json for a new file, but it doesn't have an 'Append' option for adding data, so it's not possible for us to load data chunk by chunk in there.\n",
        "\n",
        "The solution is to use pandas to_csv option as it has mode = 'a' that allows us to load data in chunks. The only think to be considered here is to load headers only for the first chunk that has been done by setting the flag 'header = true' in the begining and then set it to 'false' after processing first chunk."
      ]
    },
    {
      "cell_type": "code",
      "metadata": {
        "id": "DemEebjbM4xM",
        "colab": {
          "base_uri": "https://localhost:8080/"
        },
        "outputId": "d0e63121-2d48-4357-c74f-791bc0d637db"
      },
      "source": [
        "filtered_2020 = '/content/drive/MyDrive/quotes-2020-filtered.csv.bz2'\n",
        "df_reader = pd.read_json(path_to_file, lines=True, compression='bz2', chunksize=500000)\n",
        "header = True\n",
        "for chunk in df_reader:\n",
        "    print('processing 500000')\n",
        "    chunk[chunk['qids'].str.len() == 1].to_csv(filtered_2020 , index=False, \\\n",
        "                                               compression = 'bz2', mode='a', header=header)\n",
        "    header = False\n",
        "    print('end')\n",
        "  #10 mins to do that"
      ],
      "execution_count": 42,
      "outputs": [
        {
          "output_type": "stream",
          "name": "stdout",
          "text": [
            "processing 500000\n",
            "end\n",
            "processing 500000\n",
            "end\n",
            "processing 500000\n",
            "end\n",
            "processing 500000\n",
            "end\n",
            "processing 500000\n",
            "end\n",
            "processing 500000\n",
            "end\n",
            "processing 500000\n",
            "end\n",
            "processing 500000\n",
            "end\n",
            "processing 500000\n",
            "end\n",
            "processing 500000\n",
            "end\n",
            "processing 500000\n",
            "end\n"
          ]
        }
      ]
    },
    {
      "cell_type": "markdown",
      "metadata": {
        "id": "6j54wCm8rzFN"
      },
      "source": [
        "It took 10 minutes to do that. Now let's check if we have same amount of rows that was after filtering the data in 2020 json original dataset."
      ]
    },
    {
      "cell_type": "code",
      "metadata": {
        "colab": {
          "base_uri": "https://localhost:8080/"
        },
        "id": "BDr1chQuh_v8",
        "outputId": "45e89233-aa48-401d-f810-054718630d4b"
      },
      "source": [
        "df_reader = pd.read_csv(filtered_2020, compression='bz2', chunksize=700000)\n",
        "for chunk in df_reader:\n",
        "    process_chunk(chunk)\n",
        "  #2'511'905 rows procesed in 1 min 44 sec - same as in cell of just retreiving such rows from json"
      ],
      "execution_count": null,
      "outputs": [
        {
          "output_type": "stream",
          "name": "stdout",
          "text": [
            "Processing chunk with 700000 rows\n",
            "Index(['quoteID', 'quotation', 'speaker', 'qids', 'date', 'numOccurrences',\n",
            "       'probas', 'urls', 'phase'],\n",
            "      dtype='object')\n",
            "Processing chunk with 700000 rows\n",
            "Index(['quoteID', 'quotation', 'speaker', 'qids', 'date', 'numOccurrences',\n",
            "       'probas', 'urls', 'phase'],\n",
            "      dtype='object')\n",
            "Processing chunk with 700000 rows\n",
            "Index(['quoteID', 'quotation', 'speaker', 'qids', 'date', 'numOccurrences',\n",
            "       'probas', 'urls', 'phase'],\n",
            "      dtype='object')\n",
            "Processing chunk with 411905 rows\n",
            "Index(['quoteID', 'quotation', 'speaker', 'qids', 'date', 'numOccurrences',\n",
            "       'probas', 'urls', 'phase'],\n",
            "      dtype='object')\n"
          ]
        }
      ]
    },
    {
      "cell_type": "markdown",
      "metadata": {
        "id": "wY8aFCxUsIps"
      },
      "source": [
        "2'511'905 rows procesed in only 1 min 44 sec - same as in cell of just retreiving such rows from original data.\n",
        "\n",
        "Now let's check if we have any missing values in 'speaker' column:"
      ]
    },
    {
      "cell_type": "code",
      "metadata": {
        "colab": {
          "base_uri": "https://localhost:8080/"
        },
        "id": "zMk63tvlnGYW",
        "outputId": "af6d1ffe-9b12-401d-9901-aebed5a7229a"
      },
      "source": [
        "df_reader = pd.read_csv(filtered_2020,compression='bz2', chunksize=700000)\n",
        "for chunk in df_reader:\n",
        "    print('Currently working on new 700000...')\n",
        "    print('Num of null speakers out of chunk: '+ str(chunk[chunk.speaker == 'None'].shape[0]))\n",
        "    print('end')"
      ],
      "execution_count": null,
      "outputs": [
        {
          "output_type": "stream",
          "name": "stdout",
          "text": [
            "Currently working on new 700000...\n",
            "Num of null speakers out of chunk: 0\n",
            "end\n",
            "Currently working on new 700000...\n",
            "Num of null speakers out of chunk: 0\n",
            "end\n",
            "Currently working on new 700000...\n",
            "Num of null speakers out of chunk: 0\n",
            "end\n",
            "Currently working on new 700000...\n",
            "Num of null speakers out of chunk: 0\n",
            "end\n"
          ]
        }
      ]
    },
    {
      "cell_type": "markdown",
      "metadata": {
        "id": "r-5lh13ysbu3"
      },
      "source": [
        "Zero as expected, that's nice!\n"
      ]
    },
    {
      "cell_type": "markdown",
      "metadata": {
        "id": "e1Z-L8iYYTfs"
      },
      "source": [
        "Now we can plot the distribution mentioned in \"Data exploration\" section, but this time we took more interesting distribution for our idea. It's the number of quotations per person."
      ]
    },
    {
      "cell_type": "code",
      "metadata": {
        "colab": {
          "base_uri": "https://localhost:8080/",
          "height": 1000
        },
        "id": "56jTpdMNRhFD",
        "outputId": "5e13b14b-607e-42cd-8e9f-51f077970602"
      },
      "source": [
        "filtered_2020 = '/content/drive/MyDrive/quotes-2020-filtered.csv.bz2'\n",
        "df_reader = pd.read_csv(filtered_2020, compression='bz2', chunksize=500000)\n",
        "for chunk in df_reader:\n",
        "    print('Currently working on new 500000...')\n",
        "    plt.hist(chunk.groupby(['speaker'])['qids'].count(), log = True, bins = 100)\n",
        "    plt.xlabel('# of quotes')\n",
        "    plt.ylabel('# of people')\n",
        "    plt.show()\n",
        "    print('end')\n",
        "    #1 min 44 sec to build all graphs"
      ],
      "execution_count": 6,
      "outputs": [
        {
          "output_type": "stream",
          "name": "stdout",
          "text": [
            "Currently working on new 500000...\n"
          ]
        },
        {
          "output_type": "display_data",
          "data": {
            "image/png": "[encoded data removed]",
            "text/plain": [
              "<Figure size 432x288 with 1 Axes>"
            ]
          },
          "metadata": {
            "needs_background": "light"
          }
        },
        {
          "output_type": "stream",
          "name": "stdout",
          "text": [
            "end\n",
            "Currently working on new 500000...\n"
          ]
        },
        {
          "output_type": "display_data",
          "data": {
            "image/png": "[encoded data removed]",
            "text/plain": [
              "<Figure size 432x288 with 1 Axes>"
            ]
          },
          "metadata": {
            "needs_background": "light"
          }
        },
        {
          "output_type": "stream",
          "name": "stdout",
          "text": [
            "end\n",
            "Currently working on new 500000...\n"
          ]
        },
        {
          "output_type": "display_data",
          "data": {
            "image/png": "[encoded data removed]",
            "text/plain": [
              "<Figure size 432x288 with 1 Axes>"
            ]
          },
          "metadata": {
            "needs_background": "light"
          }
        },
        {
          "output_type": "stream",
          "name": "stdout",
          "text": [
            "end\n",
            "Currently working on new 500000...\n"
          ]
        },
        {
          "output_type": "display_data",
          "data": {
            "image/png": "[encoded data removed]",
            "text/plain": [
              "<Figure size 432x288 with 1 Axes>"
            ]
          },
          "metadata": {
            "needs_background": "light"
          }
        },
        {
          "output_type": "stream",
          "name": "stdout",
          "text": [
            "end\n",
            "Currently working on new 500000...\n"
          ]
        },
        {
          "output_type": "display_data",
          "data": {
            "image/png": "[encoded data removed]",
            "text/plain": [
              "<Figure size 432x288 with 1 Axes>"
            ]
          },
          "metadata": {
            "needs_background": "light"
          }
        },
        {
          "output_type": "stream",
          "name": "stdout",
          "text": [
            "end\n",
            "Currently working on new 500000...\n"
          ]
        },
        {
          "output_type": "display_data",
          "data": {
            "image/png": "[encoded data removed]",
            "text/plain": [
              "<Figure size 432x288 with 1 Axes>"
            ]
          },
          "metadata": {
            "needs_background": "light"
          }
        },
        {
          "output_type": "stream",
          "name": "stdout",
          "text": [
            "end\n"
          ]
        }
      ]
    },
    {
      "cell_type": "markdown",
      "metadata": {
        "id": "7RnJ_g6aRf-o"
      },
      "source": [
        "\n",
        "We can even load this data into the memory to check if everything is fine with it:"
      ]
    },
    {
      "cell_type": "code",
      "metadata": {
        "colab": {
          "base_uri": "https://localhost:8080/",
          "height": 561
        },
        "id": "r25Lm9ZkqsnE",
        "outputId": "0e122097-d692-426a-b39a-d272561b480a"
      },
      "source": [
        "df = pd.read_csv(filtered_2020, compression='bz2')\n",
        "df.head()"
      ],
      "execution_count": 48,
      "outputs": [
        {
          "output_type": "execute_result",
          "data": {
            "text/html": [
              "<div>\n",
              "<style scoped>\n",
              "    .dataframe tbody tr th:only-of-type {\n",
              "        vertical-align: middle;\n",
              "    }\n",
              "\n",
              "    .dataframe tbody tr th {\n",
              "        vertical-align: top;\n",
              "    }\n",
              "\n",
              "    .dataframe thead th {\n",
              "        text-align: right;\n",
              "    }\n",
              "</style>\n",
              "<table border=\"1\" class=\"dataframe\">\n",
              "  <thead>\n",
              "    <tr style=\"text-align: right;\">\n",
              "      <th></th>\n",
              "      <th>quoteID</th>\n",
              "      <th>quotation</th>\n",
              "      <th>speaker</th>\n",
              "      <th>qids</th>\n",
              "      <th>date</th>\n",
              "      <th>numOccurrences</th>\n",
              "      <th>probas</th>\n",
              "      <th>urls</th>\n",
              "      <th>phase</th>\n",
              "    </tr>\n",
              "  </thead>\n",
              "  <tbody>\n",
              "    <tr>\n",
              "      <th>0</th>\n",
              "      <td>2020-01-16-000088</td>\n",
              "      <td>[ Department of Homeland Security ] was livid ...</td>\n",
              "      <td>Sue Myrick</td>\n",
              "      <td>['Q367796']</td>\n",
              "      <td>2020-01-16 12:00:13</td>\n",
              "      <td>1</td>\n",
              "      <td>[['Sue Myrick', '0.8867'], ['None', '0.0992'],...</td>\n",
              "      <td>['http://thehill.com/opinion/international/478...</td>\n",
              "      <td>E</td>\n",
              "    </tr>\n",
              "    <tr>\n",
              "      <th>1</th>\n",
              "      <td>2020-01-24-000168</td>\n",
              "      <td>[ I met them ] when they just turned 4 and 7. ...</td>\n",
              "      <td>Meghan King Edmonds</td>\n",
              "      <td>['Q20684375']</td>\n",
              "      <td>2020-01-24 20:37:09</td>\n",
              "      <td>4</td>\n",
              "      <td>[['Meghan King Edmonds', '0.5446'], ['None', '...</td>\n",
              "      <td>['https://people.com/parents/meghan-king-edmon...</td>\n",
              "      <td>E</td>\n",
              "    </tr>\n",
              "    <tr>\n",
              "      <th>2</th>\n",
              "      <td>2020-01-17-000357</td>\n",
              "      <td>[ The delay ] will have an impact [ on Slough ...</td>\n",
              "      <td>Dexter Smith</td>\n",
              "      <td>['Q5268447']</td>\n",
              "      <td>2020-01-17 13:03:00</td>\n",
              "      <td>1</td>\n",
              "      <td>[['Dexter Smith', '0.924'], ['None', '0.076']]</td>\n",
              "      <td>['http://www.sloughexpress.co.uk/gallery/sloug...</td>\n",
              "      <td>E</td>\n",
              "    </tr>\n",
              "    <tr>\n",
              "      <th>3</th>\n",
              "      <td>2020-04-02-000239</td>\n",
              "      <td>[ The scheme ] treats addiction as an illness ...</td>\n",
              "      <td>Barry Coppinger</td>\n",
              "      <td>['Q4864119']</td>\n",
              "      <td>2020-04-02 14:18:20</td>\n",
              "      <td>1</td>\n",
              "      <td>[['Barry Coppinger', '0.9017'], ['None', '0.09...</td>\n",
              "      <td>['http://www.theweek.co.uk/106479/why-police-a...</td>\n",
              "      <td>E</td>\n",
              "    </tr>\n",
              "    <tr>\n",
              "      <th>4</th>\n",
              "      <td>2020-03-19-000276</td>\n",
              "      <td>[ These ] actions will allow households who ha...</td>\n",
              "      <td>Ben Carson</td>\n",
              "      <td>['Q816459']</td>\n",
              "      <td>2020-03-19 19:14:00</td>\n",
              "      <td>1</td>\n",
              "      <td>[['Ben Carson', '0.9227'], ['None', '0.0773']]</td>\n",
              "      <td>['https://mortgageorb.com/hud-fha-suspend-fore...</td>\n",
              "      <td>E</td>\n",
              "    </tr>\n",
              "  </tbody>\n",
              "</table>\n",
              "</div>"
            ],
            "text/plain": [
              "             quoteID  ... phase\n",
              "0  2020-01-16-000088  ...     E\n",
              "1  2020-01-24-000168  ...     E\n",
              "2  2020-01-17-000357  ...     E\n",
              "3  2020-04-02-000239  ...     E\n",
              "4  2020-03-19-000276  ...     E\n",
              "\n",
              "[5 rows x 9 columns]"
            ]
          },
          "metadata": {},
          "execution_count": 48
        }
      ]
    },
    {
      "cell_type": "code",
      "metadata": {
        "colab": {
          "base_uri": "https://localhost:8080/"
        },
        "id": "b0wgyG53r9ta",
        "outputId": "f3d29851-de0a-4c43-847e-c3278a3bb943"
      },
      "source": [
        "#same as before\n",
        "df.shape[0]"
      ],
      "execution_count": 49,
      "outputs": [
        {
          "output_type": "execute_result",
          "data": {
            "text/plain": [
              "2511905"
            ]
          },
          "metadata": {},
          "execution_count": 49
        }
      ]
    },
    {
      "cell_type": "code",
      "metadata": {
        "colab": {
          "base_uri": "https://localhost:8080/",
          "height": 296
        },
        "id": "AgwSD4mOsdDe",
        "outputId": "35684d4e-2b0c-42ab-f802-a184c325ca4d"
      },
      "source": [
        "#check distributions\n",
        "f['numOccurrences'].hist(log = True)\n",
        "plt.xlabel('# of occurences')\n",
        "plt.ylabel('# of people')"
      ],
      "execution_count": 50,
      "outputs": [
        {
          "output_type": "execute_result",
          "data": {
            "text/plain": [
              "Text(0, 0.5, '# of people')"
            ]
          },
          "metadata": {},
          "execution_count": 50
        },
        {
          "output_type": "display_data",
          "data": {
            "image/png": "[encoded data removed]",
            "text/plain": [
              "<Figure size 432x288 with 1 Axes>"
            ]
          },
          "metadata": {
            "needs_background": "light"
          }
        }
      ]
    },
    {
      "cell_type": "code",
      "metadata": {
        "colab": {
          "base_uri": "https://localhost:8080/",
          "height": 296
        },
        "id": "o5ZM1eg6OAQW",
        "outputId": "09758bef-09da-4789-d329-948846dbe85d"
      },
      "source": [
        "df.groupby(['speaker'])['qids'].count().hist(log=True, bins = 100)\n",
        "plt.xlabel('# of quotes')\n",
        "plt.ylabel('# of people')"
      ],
      "execution_count": 32,
      "outputs": [
        {
          "output_type": "execute_result",
          "data": {
            "text/plain": [
              "Text(0, 0.5, '# of people')"
            ]
          },
          "metadata": {},
          "execution_count": 32
        },
        {
          "output_type": "display_data",
          "data": {
            "image/png": "[encoded data removed]",
            "text/plain": [
              "<Figure size 432x288 with 1 Axes>"
            ]
          },
          "metadata": {
            "needs_background": "light"
          }
        }
      ]
    },
    {
      "cell_type": "code",
      "metadata": {
        "colab": {
          "base_uri": "https://localhost:8080/"
        },
        "id": "JXDFGCzYsibO",
        "outputId": "cee1cb51-5c99-42cc-fc32-76b443e74fb9"
      },
      "source": [
        "df.memory_usage(index=True).sum()/1000000\n",
        "#num of megabytes used by a dataframe"
      ],
      "execution_count": null,
      "outputs": [
        {
          "output_type": "execute_result",
          "data": {
            "text/plain": [
              "180.857288"
            ]
          },
          "metadata": {},
          "execution_count": 33
        }
      ]
    },
    {
      "cell_type": "markdown",
      "metadata": {
        "id": "hF3alDTPt5Hv"
      },
      "source": [
        "Now let's check if we can process like this(filter into csv) bigger amount of data, presented in the 2019 quotes dataset containing full-year data:"
      ]
    },
    {
      "cell_type": "code",
      "metadata": {
        "id": "St_zfbU1s0Fm"
      },
      "source": [
        "filtered_2019 = '/content/drive/MyDrive/quotes-2019-filtered.csv.bz2'\n",
        "df_reader = pd.read_json('/content/drive/MyDrive/Quotebank/quotes-2019.json.bz2', lines=True, compression='bz2', chunksize=500000)\n",
        "header = True\n",
        "for chunk in df_reader:\n",
        "    print('processing 500000')\n",
        "    chunk[chunk['qids'].str.len() == 1].to_csv(filtered_2019, index=False, \\\n",
        "                                               compression = 'bz2', mode='a', header=header)\n",
        "    header = False\n",
        "    print('end')\n",
        "    #22 mil rows processed in 42 mins"
      ],
      "execution_count": null,
      "outputs": []
    },
    {
      "cell_type": "markdown",
      "metadata": {
        "id": "JQrBn26OuHtK"
      },
      "source": [
        "Well, it took more time, but still, we did it.\n",
        "\n",
        "And we can see that it's processing much faster now:"
      ]
    },
    {
      "cell_type": "code",
      "metadata": {
        "colab": {
          "base_uri": "https://localhost:8080/"
        },
        "id": "6HIVSTOCYn_J",
        "outputId": "df1239b0-5c65-472e-8bb3-0325e2f4f7cb"
      },
      "source": [
        "df_reader = pd.read_csv('/content/quotes-2019-filtered.csv.bz2', compression='bz2', chunksize=700000)\n",
        "for chunk in df_reader:\n",
        "    process_chunk(chunk)"
      ],
      "execution_count": null,
      "outputs": [
        {
          "output_type": "stream",
          "name": "stdout",
          "text": [
            "Processing chunk with 700000 rows\n",
            "Index(['quoteID', 'quotation', 'speaker', 'qids', 'date', 'numOccurrences',\n",
            "       'probas', 'urls', 'phase'],\n",
            "      dtype='object')\n",
            "Processing chunk with 700000 rows\n",
            "Index(['quoteID', 'quotation', 'speaker', 'qids', 'date', 'numOccurrences',\n",
            "       'probas', 'urls', 'phase'],\n",
            "      dtype='object')\n",
            "Processing chunk with 700000 rows\n",
            "Index(['quoteID', 'quotation', 'speaker', 'qids', 'date', 'numOccurrences',\n",
            "       'probas', 'urls', 'phase'],\n",
            "      dtype='object')\n",
            "Processing chunk with 700000 rows\n",
            "Index(['quoteID', 'quotation', 'speaker', 'qids', 'date', 'numOccurrences',\n",
            "       'probas', 'urls', 'phase'],\n",
            "      dtype='object')\n",
            "Processing chunk with 700000 rows\n",
            "Index(['quoteID', 'quotation', 'speaker', 'qids', 'date', 'numOccurrences',\n",
            "       'probas', 'urls', 'phase'],\n",
            "      dtype='object')\n",
            "Processing chunk with 700000 rows\n",
            "Index(['quoteID', 'quotation', 'speaker', 'qids', 'date', 'numOccurrences',\n",
            "       'probas', 'urls', 'phase'],\n",
            "      dtype='object')\n",
            "Processing chunk with 700000 rows\n",
            "Index(['quoteID', 'quotation', 'speaker', 'qids', 'date', 'numOccurrences',\n",
            "       'probas', 'urls', 'phase'],\n",
            "      dtype='object')\n",
            "Processing chunk with 700000 rows\n",
            "Index(['quoteID', 'quotation', 'speaker', 'qids', 'date', 'numOccurrences',\n",
            "       'probas', 'urls', 'phase'],\n",
            "      dtype='object')\n",
            "Processing chunk with 700000 rows\n",
            "Index(['quoteID', 'quotation', 'speaker', 'qids', 'date', 'numOccurrences',\n",
            "       'probas', 'urls', 'phase'],\n",
            "      dtype='object')\n",
            "Processing chunk with 700000 rows\n",
            "Index(['quoteID', 'quotation', 'speaker', 'qids', 'date', 'numOccurrences',\n",
            "       'probas', 'urls', 'phase'],\n",
            "      dtype='object')\n",
            "Processing chunk with 700000 rows\n",
            "Index(['quoteID', 'quotation', 'speaker', 'qids', 'date', 'numOccurrences',\n",
            "       'probas', 'urls', 'phase'],\n",
            "      dtype='object')\n",
            "Processing chunk with 700000 rows\n",
            "Index(['quoteID', 'quotation', 'speaker', 'qids', 'date', 'numOccurrences',\n",
            "       'probas', 'urls', 'phase'],\n",
            "      dtype='object')\n",
            "Processing chunk with 700000 rows\n",
            "Index(['quoteID', 'quotation', 'speaker', 'qids', 'date', 'numOccurrences',\n",
            "       'probas', 'urls', 'phase'],\n",
            "      dtype='object')\n",
            "Processing chunk with 700000 rows\n",
            "Index(['quoteID', 'quotation', 'speaker', 'qids', 'date', 'numOccurrences',\n",
            "       'probas', 'urls', 'phase'],\n",
            "      dtype='object')\n",
            "Processing chunk with 473202 rows\n",
            "Index(['quoteID', 'quotation', 'speaker', 'qids', 'date', 'numOccurrences',\n",
            "       'probas', 'urls', 'phase'],\n",
            "      dtype='object')\n"
          ]
        }
      ]
    },
    {
      "cell_type": "markdown",
      "metadata": {
        "id": "RSCiD6DjuVNz"
      },
      "source": [
        "Took only 7 mins to process all of filtered data.\n",
        "\n",
        "Now let's filter the rest quotes data from 2015 to 2018:"
      ]
    },
    {
      "cell_type": "code",
      "metadata": {
        "id": "LmLlMjmdjRMF"
      },
      "source": [
        "filtered_2018 = '/content/drive/MyDrive/quotes-2018-filtered.csv.bz2'\n",
        "df_reader = pd.read_json('/content/drive/MyDrive/Quotebank/quotes-2018.json.bz2', lines=True, compression='bz2', chunksize=500000)\n",
        "header = True\n",
        "for chunk in df_reader:\n",
        "    print('processing 500000')\n",
        "    chunk[chunk['qids'].str.len() == 1].to_csv(filtered_2018, index=False, \\\n",
        "                                               compression = 'bz2', mode='a', header=header)\n",
        "    header = False\n",
        "    print('end')\n",
        "   # 1 hr 19 27.5 mil"
      ],
      "execution_count": null,
      "outputs": []
    },
    {
      "cell_type": "code",
      "metadata": {
        "id": "8ILTvSRrm5i4"
      },
      "source": [
        "filtered_2017 = '/content/drive/MyDrive/quotes-2017-filtered.csv.bz2'\n",
        "df_reader = pd.read_json('/content/drive/MyDrive/Quotebank/quotes-2017.json.bz2', lines=True, compression='bz2', chunksize=500000)\n",
        "header = True\n",
        "for chunk in df_reader:\n",
        "    print('processing 500000')\n",
        "    chunk[chunk['qids'].str.len() == 1].to_csv(filtered_2017, index=False, \\\n",
        "                                               compression = 'bz2', mode='a', header=header)\n",
        "    header = False\n",
        "    print('end')\n",
        "    #1 hr 18 mins 27 mil"
      ],
      "execution_count": null,
      "outputs": []
    },
    {
      "cell_type": "code",
      "metadata": {
        "id": "fyKvQYBGKtwC"
      },
      "source": [
        "filtered_2016 = '/content/drive/MyDrive/quotes-2016-filtered.csv.bz2'\n",
        "df_reader = pd.read_json('/content/drive/MyDrive/Quotebank/quotes-2016.json.bz2', lines=True, compression='bz2', chunksize=500000)\n",
        "header = True\n",
        "for chunk in df_reader:\n",
        "    print('processing 500000')\n",
        "    chunk[chunk['qids'].str.len() == 1].to_csv(filtered_2016, index=False, \\\n",
        "                                               compression = 'bz2', mode='a', header=header)\n",
        "    header = False\n",
        "    print('end')\n",
        "    #14 mil processed in 31 mins"
      ],
      "execution_count": null,
      "outputs": []
    },
    {
      "cell_type": "code",
      "metadata": {
        "id": "OXuTvbiTZYCK"
      },
      "source": [
        "filtered_2015 = '/content/drive/MyDrive/quotes-2015-filtered.csv.bz2'\n",
        "df_reader = pd.read_json('/content/drive/MyDrive/Quotebank/quotes-2015.json.bz2', lines=True, compression='bz2', chunksize=500000)\n",
        "header = True\n",
        "for chunk in df_reader:\n",
        "    print('processing 500000')\n",
        "    chunk[chunk['qids'].str.len() == 1].to_csv(filtered_2015, index=False, \\\n",
        "                                               compression = 'bz2', mode='a', header=header)\n",
        "    header = False\n",
        "    print('end')\n",
        "# 21 mil processed in 46 mins."
      ],
      "execution_count": null,
      "outputs": []
    },
    {
      "cell_type": "markdown",
      "metadata": {
        "id": "_F4QqhqClGO6"
      },
      "source": [
        "##Stay tuned, the results for project milestone 3 are coming on your screens December 17th..."
      ]
    }
  ]
}